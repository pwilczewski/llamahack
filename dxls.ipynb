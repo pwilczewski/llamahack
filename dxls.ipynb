{
 "cells": [
  {
   "cell_type": "code",
   "execution_count": 1,
   "metadata": {},
   "outputs": [],
   "source": [
    "from llamaapi import LlamaAPI\n",
    "from dotenv import load_dotenv\n",
    "import os\n",
    "\n",
    "load_dotenv()\n",
    "LLAMAAPI_KEY = os.getenv('LLAMAAPI_KEY')\n",
    "\n",
    "llama = LlamaAPI(LLAMAAPI_KEY)"
   ]
  },
  {
   "cell_type": "code",
   "execution_count": 2,
   "metadata": {},
   "outputs": [
    {
     "name": "stdout",
     "output_type": "stream",
     "text": [
      "                          0          1\n",
      "0               Sum Assured   100000.0\n",
      "1            Annual Premium     1000.0\n",
      "2            Mortality Rate       0.01\n",
      "3             Interest Rate       0.03\n",
      "4  Expected Benefit Payment     =B1*B3\n",
      "5           Discount Factor  =1/(1+B4)\n",
      "6    PV of Expected Benefit     =B5*B6\n",
      "7       Net Premium Reserve     =B7-B2\n"
     ]
    }
   ],
   "source": [
    "import pandas as pd\n",
    "from openpyxl import load_workbook\n",
    "\n",
    "def xlsx2df(filename):\n",
    "    wb = load_workbook(filename, data_only=False)\n",
    "    sheet = wb[\"Sheet1\"]\n",
    "\n",
    "    data = []\n",
    "    for row in sheet.iter_rows():\n",
    "        row_data = []\n",
    "        for cell in row:\n",
    "            row_data.append(cell.value)\n",
    "        data.append(row_data)\n",
    "\n",
    "    df = pd.DataFrame(data)\n",
    "    return df\n",
    "\n",
    "# df = xlsx2df(\"DCF model.xlsx\")\n",
    "df = xlsx2df(\"Actuarial Calculation.xlsx\")\n",
    "print(df)\n"
   ]
  },
  {
   "cell_type": "code",
   "execution_count": 15,
   "metadata": {},
   "outputs": [],
   "source": [
    "from langchain.agents.agent_types import AgentType\n",
    "from langchain_experimental.agents.agent_toolkits import create_pandas_dataframe_agent\n",
    "from langchain_experimental.llms import ChatLlamaAPI\n",
    "from langchain_openai import ChatOpenAI\n",
    "\n",
    "model_llama = ChatLlamaAPI(client=llama, model=\"llama3.1-8b\", temperature=0, verbose=True)\n",
    "model = ChatOpenAI(model=\"gpt-4o\", temperature=0, verbose=True)\n",
    "\n",
    "agent = create_pandas_dataframe_agent(model, df, allow_dangerous_code=True, number_of_head_rows=10)"
   ]
  },
  {
   "cell_type": "code",
   "execution_count": 24,
   "metadata": {},
   "outputs": [
    {
     "name": "stdout",
     "output_type": "stream",
     "text": [
      "```python\n",
      "Sum_Assured = 100000.0\n",
      "Annual_Premium = 1000.0\n",
      "Mortality_Rate = 0.01\n",
      "Interest_Rate = 0.03\n",
      "Expected_Benefit_Payment = Sum_Assured * Mortality_Rate\n",
      "Discount_Factor = 1 / (1 + Interest_Rate)\n",
      "PV_of_Expected_Benefit = Expected_Benefit_Payment * Discount_Factor\n",
      "Net_Premium_Reserve = PV_of_Expected_Benefit - Annual_Premium\n",
      "```\n"
     ]
    }
   ],
   "source": [
    "from langchain.globals import set_debug\n",
    "set_debug(False)\n",
    "\n",
    "response = agent.invoke(\"This dataframe contains cells from an Excel spreadsheet. Some of these cells contain data labels, some contain data and others contain formulas. Convert this dataframe to Python code such that data labels are variable names, data are variable values and formulas use the variable names. Convert all the cells and formulas. Note that the first row index in Excel is 1.\")\n",
    "print(response['output'])"
   ]
  }
 ],
 "metadata": {
  "kernelspec": {
   "display_name": "llamahack",
   "language": "python",
   "name": "python3"
  },
  "language_info": {
   "codemirror_mode": {
    "name": "ipython",
    "version": 3
   },
   "file_extension": ".py",
   "mimetype": "text/x-python",
   "name": "python",
   "nbconvert_exporter": "python",
   "pygments_lexer": "ipython3",
   "version": "3.12.7"
  }
 },
 "nbformat": 4,
 "nbformat_minor": 2
}
