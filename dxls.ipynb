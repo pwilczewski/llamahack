{
 "cells": [
  {
   "cell_type": "code",
   "execution_count": null,
   "metadata": {},
   "outputs": [],
   "source": [
    "import pandas as pd\n",
    "from openpyxl import load_workbook\n",
    "\n",
    "def xlsx2df(filename):\n",
    "    wb = load_workbook(filename, data_only=False)\n",
    "    sheet = wb[\"Sheet1\"]\n",
    "\n",
    "    data = []\n",
    "    for row in sheet.iter_rows():\n",
    "        row_data = []\n",
    "        for cell in row:\n",
    "            row_data.append(cell.value)\n",
    "        data.append(row_data)\n",
    "\n",
    "    df = pd.DataFrame(data)\n",
    "    return df\n",
    "\n",
    "# df = xlsx2df(\"DCF model.xlsx\")\n",
    "df = xlsx2df(\"Actuarial Calculation.xlsx\")\n",
    "print(df)"
   ]
  },
  {
   "cell_type": "code",
   "execution_count": null,
   "metadata": {},
   "outputs": [],
   "source": [
    "from langchain_experimental.agents.agent_toolkits import create_pandas_dataframe_agent\n",
    "from langchain_openai import ChatOpenAI\n",
    "\n",
    "model_openai = ChatOpenAI(model=\"gpt-4o\", temperature=0, verbose=True)\n",
    "\n",
    "agent = create_pandas_dataframe_agent(model_openai, df, allow_dangerous_code=True, number_of_head_rows=10)"
   ]
  },
  {
   "cell_type": "code",
   "execution_count": null,
   "metadata": {},
   "outputs": [],
   "source": [
    "from langchain.globals import set_debug\n",
    "set_debug(False)\n",
    "\n",
    "response = agent.invoke(\"This dataframe contains cells from an Excel spreadsheet. Some of these cells contain data labels, some contain data and others contain formulas. Convert this dataframe to Python code such that data labels are variable names, data are variable values and formulas use the variable names. Convert all the cells and formulas. Note that the first row index in Excel is 1.\")\n",
    "print(response['output'])"
   ]
  }
 ],
 "metadata": {
  "kernelspec": {
   "display_name": "llamahack",
   "language": "python",
   "name": "python3"
  },
  "language_info": {
   "codemirror_mode": {
    "name": "ipython",
    "version": 3
   },
   "file_extension": ".py",
   "mimetype": "text/x-python",
   "name": "python",
   "nbconvert_exporter": "python",
   "pygments_lexer": "ipython3",
   "version": "3.12.7"
  }
 },
 "nbformat": 4,
 "nbformat_minor": 2
}
